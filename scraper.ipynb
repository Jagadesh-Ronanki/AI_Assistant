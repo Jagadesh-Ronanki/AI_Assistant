{
 "cells": [
  {
   "cell_type": "markdown",
   "metadata": {},
   "source": [
    "# WEB SCRAPER"
   ]
  },
  {
   "cell_type": "code",
   "execution_count": 4,
   "metadata": {},
   "outputs": [
    {
     "name": "stdout",
     "output_type": "stream",
     "text": [
      "Note: you may need to restart the kernel to use updated packages.\n"
     ]
    },
    {
     "name": "stderr",
     "output_type": "stream",
     "text": [
      "The filename, directory name, or volume label syntax is incorrect.\n"
     ]
    }
   ],
   "source": [
    "pip install requests"
   ]
  },
  {
   "cell_type": "code",
   "execution_count": 1,
   "metadata": {},
   "outputs": [
    {
     "ename": "ModuleNotFoundError",
     "evalue": "No module named 'requests'",
     "output_type": "error",
     "traceback": [
      "\u001b[1;31m---------------------------------------------------------------------------\u001b[0m",
      "\u001b[1;31mModuleNotFoundError\u001b[0m                       Traceback (most recent call last)",
      "\u001b[1;32m~\\AppData\\Local\\Temp/ipykernel_9196/3090248788.py\u001b[0m in \u001b[0;36m<module>\u001b[1;34m\u001b[0m\n\u001b[0;32m      1\u001b[0m \u001b[1;32mimport\u001b[0m \u001b[0mre\u001b[0m\u001b[1;33m\u001b[0m\u001b[1;33m\u001b[0m\u001b[0m\n\u001b[0;32m      2\u001b[0m \u001b[1;32mimport\u001b[0m \u001b[0murllib\u001b[0m\u001b[1;33m\u001b[0m\u001b[1;33m\u001b[0m\u001b[0m\n\u001b[1;32m----> 3\u001b[1;33m \u001b[1;32mimport\u001b[0m \u001b[0mrequests\u001b[0m\u001b[1;33m\u001b[0m\u001b[1;33m\u001b[0m\u001b[0m\n\u001b[0m\u001b[0;32m      4\u001b[0m \u001b[1;32mimport\u001b[0m \u001b[0mwikipedia\u001b[0m\u001b[1;33m\u001b[0m\u001b[1;33m\u001b[0m\u001b[0m\n\u001b[0;32m      5\u001b[0m \u001b[1;32mfrom\u001b[0m \u001b[0mhelium\u001b[0m \u001b[1;32mimport\u001b[0m \u001b[1;33m*\u001b[0m\u001b[1;33m\u001b[0m\u001b[1;33m\u001b[0m\u001b[0m\n",
      "\u001b[1;31mModuleNotFoundError\u001b[0m: No module named 'requests'"
     ]
    }
   ],
   "source": [
    "import re\n",
    "import urllib\n",
    "import requests\n",
    "import wikipedia\n",
    "from helium import *\n",
    "from bs4 import BeautifulSoup\n",
    "import urllib.request as urllib2"
   ]
  },
  {
   "cell_type": "code",
   "execution_count": 6,
   "metadata": {},
   "outputs": [],
   "source": [
    "class Scraper:\n",
    "    def __init__(self,text):\n",
    "        self.text = text\n",
    "\n",
    "    def definition(self):\n",
    "        definition = wikipedia.summary(self.text,sentences=3)\n",
    "        return definition\n",
    "\n",
    "    def resources(self):\n",
    "        self.text = urllib.parse.quote_plus(self.text)  # avl+trees\n",
    "        url = 'https://google.com/search?q='+self.text \n",
    "        response = requests.get(url)\n",
    "        soup = BeautifulSoup(response.text,'lxml')\n",
    "        sources = dict()\n",
    "        for a in soup.find_all('a'):\n",
    "            href = a.get('href')\n",
    "            if '/url' in href:\n",
    "                source = href[7:]\n",
    "                source = source.partition('&')[0]\n",
    "                domain = ''.join(re.findall(r'(?<=\\.)([^.]+)(?:\\.(?:co\\.uk|ac\\.us|[^.]+(?:$|\\n)))',source))\n",
    "                if('/' not in domain and domain!='google'):\n",
    "                    try:\n",
    "                        sources[domain].append(source)\n",
    "                    except KeyError:\n",
    "                        sources[domain] = [source]\n",
    "        return sources\n",
    "    \n",
    "    def mcqs(self):\n",
    "        self.text = 'sandford mcqs '+self.text\n",
    "        text = urllib.parse.quote_plus(self.text)\n",
    "        url = 'https://google.com/search?q='+text\n",
    "        response = requests.get(url)\n",
    "        soup = BeautifulSoup(response.text,'lxml')\n",
    "        for a in soup.find_all('a'):\n",
    "            href = a.get('href')\n",
    "            if '/url' in href:\n",
    "                sanfoundry = href[7:]\n",
    "                sanfoundry = sanfoundry.partition('&')[0]\n",
    "                break\n",
    "        opener = urllib2.build_opener()\n",
    "        opener.addheaders = [('User-agent', 'Mozilla/5.0')]\n",
    "        resource = opener.open(sanfoundry)\n",
    "        data = resource.read()\n",
    "        soup = BeautifulSoup(data,'lxml')\n",
    "\n",
    "        text=soup.text\n",
    "        '''print(text)'''\n",
    "        answers_list = re.findall(r'(?<=: )(.?)(?:$|\\n)',text,flags=re.IGNORECASE)\n",
    "        explaination_list = re.findall(r'Explanation: [^\\n]*',text,flags=re.IGNORECASE)\n",
    "        COUNTER = 0\n",
    "        tag = soup.find_all('p')\n",
    "        mcqs = dict()     \n",
    "        for p in tag[1:len(tag)-3]:\n",
    "            value = p.text\n",
    "            if(re.match(r'\\d+\\.',value)):\n",
    "                values = value.split('\\n')\n",
    "                try:\n",
    "                    values.remove('View Answer')\n",
    "                    values.append(answers_list[COUNTER])\n",
    "                    values.append(explaination_list[COUNTER])\n",
    "                except:\n",
    "                    pass\n",
    "                if(len(values)>1):\n",
    "                    if(len(values)==7):\n",
    "                        mcqs[values[0]] = {'options':[values[1],values[2],values[3],values[4]], 'answer':values[5], 'explain':values[6]}\n",
    "                    elif(len(values)==5):\n",
    "                        mcqs[values[0]] = {'options':[values[1],values[2]], 'answer':values[3], 'explain':values[4]}\n",
    "                    COUNTER+=1\n",
    "            else:\n",
    "                COUNTER+=1\n",
    "        return mcqs"
   ]
  },
  {
   "cell_type": "code",
   "execution_count": 9,
   "metadata": {
    "collapsed": true
   },
   "outputs": [
    {
     "name": "stdout",
     "output_type": "stream",
     "text": [
      "In computer science, an AVL tree (named after inventors Adelson-Velsky and Landis) is a self-balancing binary search tree. It was the first such data structure to be invented. In an AVL tree, the heights of the two child subtrees of any node differ by at most one; if at any time they differ by more than one, rebalancing is done to restore this property.\n",
      "{'geeksforgeeks': ['https://www.geeksforgeeks.org/avl-tree-set-1-insertion/'], 'wikipedia': ['https://en.wikipedia.org/wiki/AVL_tree', 'https://en.wikipedia.org/wiki/AVL_tree', 'https://en.wikipedia.org/wiki/AVL_tree%23Operations', 'https://en.wikipedia.org/wiki/AVL_tree%23Insert', 'https://en.wikipedia.org/wiki/AVL_tree%23Delete', 'https://en.wikipedia.org/wiki/AVL_tree%23Rebalancing'], 'youtube': ['https://www.youtube.com/watch%3Fv%3DjDM6_TnYIqE', 'https://www.youtube.com/watch%3Fv%3DjDM6_TnYIqE'], 'javatpoint': ['https://www.javatpoint.com/avl-tree'], 'programiz': ['https://www.programiz.com/dsa/avl-tree'], 'w3schools': ['https://www.w3schools.in/data-structures-tutorial/avl-trees/']}\n",
      "{'1. What is an AVL tree?': {'options': ['a) a tree which is balanced and is a height balanced tree', 'b) a tree which is unbalanced and is a height balanced tree', 'c) a tree with three children', 'd) a tree with atmost 3 children'], 'answer': 'a', 'explain': 'Explanation: It is a self balancing tree with height difference atmost 1.'}, '2. Why we need to a binary tree which is height balanced?': {'options': ['a) to avoid formation of skew trees', 'b) to save memory', 'c) to attain faster memory access', 'd) to simplify storing'], 'answer': 'a', 'explain': 'Explanation: In real world dealing with random values is often not possible, the probability that u are dealing with non random values(like sequential) leads to mostly skew trees, which leads to worst case. hence we make height balance by rotations.'}, '4. What is the maximum height of an AVL tree with p nodes?': {'options': ['a) p', 'b) log(p)', 'c) log(p)/2', 'd) p⁄2'], 'answer': 'b', 'explain': 'Explanation: Consider height of tree to be ‘he’, then number of nodes which totals to p can be written in terms of height as N(he)=N(he-1)+1+N(he-2). since N(he) which is p can be written in terms of height as the beside recurrence relation which on solving gives N(he)= O(logp) as worst case height.'}, '5. To restore the AVL property after inserting a element, we start at the insertion point and move towards root of that tree. is this statement true?': {'options': ['a) true', 'b) false'], 'answer': 'a', 'explain': 'Explanation: It is interesting to note that after insertion, only the path from that point to node or only that subtrees are imbalanced interms of height.'}, '6. Given an empty AVL tree, how would you construct AVL tree when a set of numbers are given without performing any rotations?': {'options': ['a) just build the tree with the given input', 'b) find the median of the set of elements given, make it as root and construct the tree', 'c) use trial and error', 'd) use dynamic programming to build the tree'], 'answer': 'b', 'explain': 'Explanation: Sort the given input, find the median element among them, make it as root and construct left and right subtrees with elements lesser and greater than the median element recursively. this ensures the subtrees differ only by height 1.'}, '7. What maximum difference in heights between the leafs of a AVL tree is possible?': {'options': ['a) log(n) where n is the number of nodes', 'b) n where n is the number of nodes', 'c) 0 or 1', 'd) atmost 1'], 'answer': 'a', 'explain': 'Explanation: At every level we can form a tree with difference in height between subtrees to be atmost 1 and so there can be log(n) such levels since height of AVL tree is log(n).'}, '10. Why to prefer red-black trees over AVL trees?': {'options': ['a) Because red-black is more rigidly balanced', 'b) AVL tree store balance factor in every node which costs space', 'c) AVL tree fails at scale', 'd) Red black is more efficient'], 'answer': 'b', 'explain': 'Explanation: Every node in an AVL tree need to store the balance factor (-1, 0, 1) hence space costs to O(n), n being number of nodes. but in red-black we can use the sign of number (if numbers being stored are only positive) and hence save space for storing balancing information. there are even other reasons where redblack is mostly prefered.'}}\n"
     ]
    }
   ],
   "source": [
    "# usage\n",
    "o = Scraper('avl trees')\n",
    "print(o.definition())\n",
    "print(o.resources())\n",
    "print(o.mcqs())"
   ]
  },
  {
   "cell_type": "code",
   "execution_count": 23,
   "metadata": {},
   "outputs": [],
   "source": [
    "import os\n",
    "import time\n",
    "import subprocess\n",
    "import pyautogui as pe"
   ]
  },
  {
   "cell_type": "code",
   "execution_count": 24,
   "metadata": {},
   "outputs": [
    {
     "data": {
      "text/plain": [
       "Point(x=1124, y=462)"
      ]
     },
     "execution_count": 24,
     "metadata": {},
     "output_type": "execute_result"
    }
   ],
   "source": [
    "pe.position()"
   ]
  },
  {
   "cell_type": "code",
   "execution_count": 25,
   "metadata": {},
   "outputs": [],
   "source": [
    "pe.click(1169,1056,2)"
   ]
  },
  {
   "cell_type": "code",
   "execution_count": 27,
   "metadata": {},
   "outputs": [],
   "source": [
    "pe.hotkey('ctrl','shift','1')"
   ]
  }
 ],
 "metadata": {
  "kernelspec": {
   "display_name": "Python 3 (ipykernel)",
   "language": "python",
   "name": "python3"
  },
  "language_info": {
   "codemirror_mode": {
    "name": "ipython",
    "version": 3
   },
   "file_extension": ".py",
   "mimetype": "text/x-python",
   "name": "python",
   "nbconvert_exporter": "python",
   "pygments_lexer": "ipython3",
   "version": "3.9.6"
  }
 },
 "nbformat": 4,
 "nbformat_minor": 4
}
